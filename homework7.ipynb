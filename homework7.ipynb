{
 "cells": [
  {
   "cell_type": "code",
   "execution_count": 2,
   "id": "7c12cc60",
   "metadata": {},
   "outputs": [
    {
     "data": {
      "text/html": [
       "<div>\n",
       "<style scoped>\n",
       "    .dataframe tbody tr th:only-of-type {\n",
       "        vertical-align: middle;\n",
       "    }\n",
       "\n",
       "    .dataframe tbody tr th {\n",
       "        vertical-align: top;\n",
       "    }\n",
       "\n",
       "    .dataframe thead th {\n",
       "        text-align: right;\n",
       "    }\n",
       "</style>\n",
       "<table border=\"1\" class=\"dataframe\">\n",
       "  <thead>\n",
       "    <tr style=\"text-align: right;\">\n",
       "      <th></th>\n",
       "      <th>Open</th>\n",
       "      <th>High</th>\n",
       "      <th>Low</th>\n",
       "      <th>Close</th>\n",
       "      <th>Volume</th>\n",
       "    </tr>\n",
       "    <tr>\n",
       "      <th>Date</th>\n",
       "      <th></th>\n",
       "      <th></th>\n",
       "      <th></th>\n",
       "      <th></th>\n",
       "      <th></th>\n",
       "    </tr>\n",
       "  </thead>\n",
       "  <tbody>\n",
       "    <tr>\n",
       "      <th>12/8/2021</th>\n",
       "      <td>35716.85</td>\n",
       "      <td>35840.52</td>\n",
       "      <td>35602.65</td>\n",
       "      <td>35754.75</td>\n",
       "      <td>387650000</td>\n",
       "    </tr>\n",
       "    <tr>\n",
       "      <th>12/7/2021</th>\n",
       "      <td>35423.99</td>\n",
       "      <td>35819.47</td>\n",
       "      <td>35423.99</td>\n",
       "      <td>35719.43</td>\n",
       "      <td>474940000</td>\n",
       "    </tr>\n",
       "    <tr>\n",
       "      <th>12/6/2021</th>\n",
       "      <td>34633.43</td>\n",
       "      <td>35356.75</td>\n",
       "      <td>34633.43</td>\n",
       "      <td>35227.03</td>\n",
       "      <td>416720000</td>\n",
       "    </tr>\n",
       "    <tr>\n",
       "      <th>12/3/2021</th>\n",
       "      <td>34692.78</td>\n",
       "      <td>34801.31</td>\n",
       "      <td>34264.57</td>\n",
       "      <td>34580.08</td>\n",
       "      <td>439550000</td>\n",
       "    </tr>\n",
       "    <tr>\n",
       "      <th>12/2/2021</th>\n",
       "      <td>34076.25</td>\n",
       "      <td>34759.65</td>\n",
       "      <td>34076.25</td>\n",
       "      <td>34639.79</td>\n",
       "      <td>466900000</td>\n",
       "    </tr>\n",
       "    <tr>\n",
       "      <th>...</th>\n",
       "      <td>...</td>\n",
       "      <td>...</td>\n",
       "      <td>...</td>\n",
       "      <td>...</td>\n",
       "      <td>...</td>\n",
       "    </tr>\n",
       "    <tr>\n",
       "      <th>1/8/1992</th>\n",
       "      <td>3204.80</td>\n",
       "      <td>3229.20</td>\n",
       "      <td>3185.82</td>\n",
       "      <td>3203.90</td>\n",
       "      <td>29040000</td>\n",
       "    </tr>\n",
       "    <tr>\n",
       "      <th>1/7/1992</th>\n",
       "      <td>3200.10</td>\n",
       "      <td>3210.20</td>\n",
       "      <td>3184.48</td>\n",
       "      <td>3204.80</td>\n",
       "      <td>25510000</td>\n",
       "    </tr>\n",
       "    <tr>\n",
       "      <th>1/6/1992</th>\n",
       "      <td>3201.50</td>\n",
       "      <td>3213.33</td>\n",
       "      <td>3191.86</td>\n",
       "      <td>3200.10</td>\n",
       "      <td>27280000</td>\n",
       "    </tr>\n",
       "    <tr>\n",
       "      <th>1/3/1992</th>\n",
       "      <td>3172.40</td>\n",
       "      <td>3210.64</td>\n",
       "      <td>3165.92</td>\n",
       "      <td>3201.50</td>\n",
       "      <td>23620000</td>\n",
       "    </tr>\n",
       "    <tr>\n",
       "      <th>1/2/1992</th>\n",
       "      <td>3152.10</td>\n",
       "      <td>3172.63</td>\n",
       "      <td>3139.31</td>\n",
       "      <td>3172.40</td>\n",
       "      <td>23550000</td>\n",
       "    </tr>\n",
       "  </tbody>\n",
       "</table>\n",
       "<p>7542 rows × 5 columns</p>\n",
       "</div>"
      ],
      "text/plain": [
       "               Open      High       Low     Close     Volume\n",
       "Date                                                        \n",
       "12/8/2021  35716.85  35840.52  35602.65  35754.75  387650000\n",
       "12/7/2021  35423.99  35819.47  35423.99  35719.43  474940000\n",
       "12/6/2021  34633.43  35356.75  34633.43  35227.03  416720000\n",
       "12/3/2021  34692.78  34801.31  34264.57  34580.08  439550000\n",
       "12/2/2021  34076.25  34759.65  34076.25  34639.79  466900000\n",
       "...             ...       ...       ...       ...        ...\n",
       "1/8/1992    3204.80   3229.20   3185.82   3203.90   29040000\n",
       "1/7/1992    3200.10   3210.20   3184.48   3204.80   25510000\n",
       "1/6/1992    3201.50   3213.33   3191.86   3200.10   27280000\n",
       "1/3/1992    3172.40   3210.64   3165.92   3201.50   23620000\n",
       "1/2/1992    3152.10   3172.63   3139.31   3172.40   23550000\n",
       "\n",
       "[7542 rows x 5 columns]"
      ]
     },
     "execution_count": 2,
     "metadata": {},
     "output_type": "execute_result"
    }
   ],
   "source": [
    "import pandas as pd\n",
    "mydata = pd.read_csv('stockData.csv', index_col='Date')\n",
    "mydata"
   ]
  },
  {
   "cell_type": "code",
   "execution_count": 8,
   "id": "62c1fd60",
   "metadata": {},
   "outputs": [],
   "source": [
    "def add_original_feature(df, df_new):\n",
    "    df_new['open'] = df['Open']\n",
    "    df_new['open_1'] = df['Open'].shift(1)\n",
    "    df_new['close_1'] = df['Close'].shift(1)\n",
    "    df_new['high_1'] = df['High'].shift(1)\n",
    "    df_new['low_1'] = df['Low'].shift(1)\n",
    "    df_new['volume_1'] = df['Volume'].shift(1)\n",
    "def add_avg_price(df, df_new):\n",
    "    df_new['avg_price_5'] = df['Close'].rolling(5).mean().shift(1)\n",
    "    df_new['avg_price_30'] = df['Close'].rolling(21).mean().shift(1)\n",
    "    df_new['avg_price_365'] = df['Close'].rolling(252).mean().shift(1)\n",
    "    df_new['ratio_avg_price_5_30'] = df_new['avg_price_5'] / df_new['avg_price_30']\n",
    "    df_new['ratio_avg_price_5_365'] = df_new['avg_price_5'] / df_new['avg_price_365']\n",
    "    df_new['ratio_avg_price_30_365'] = df_new['avg_price_30'] / df_new['avg_price_365']\n",
    "def add_avg_volume(df, df_new):\n",
    "    df_new['avg_volume_5'] = df['Volume'].rolling(5).mean().shift(1)\n",
    "    df_new['avg_volume_30'] = df['Volume'].rolling(21).mean().shift(1)\n",
    "    df_new['avg_volume_365'] = df['Volume'].rolling(252).mean().shift(1)\n",
    "    df_new['ratio_avg_volume_5_30'] = df_new['avg_volume_5'] / df_new['avg_volume_30']\n",
    "    df_new['ratio_avg_volume_5_365'] = df_new['avg_volume_5'] / df_new['avg_volume_365']\n",
    "    df_new['ratio_avg_volume_30_365'] = df_new['avg_volume_30'] / df_new['avg_volume_365']\n",
    "def add_std_price(df, df_new):\n",
    "    df_new['std_price_5'] = df['Close'].rolling(5).std().shift(1)\n",
    "    df_new['std_price_30'] = df['Close'].rolling(21).std().shift(1)\n",
    "    df_new['std_price_365'] = df['Close'].rolling(252).std().shift(1)\n",
    "    df_new['ratio_std_price_5_30'] = df_new['std_price_5'] / df_new['std_price_30']\n",
    "    df_new['ratio_std_price_5_365'] = df_new['std_price_5'] / df_new['std_price_365']\n",
    "    df_new['ratio_std_price_30_365'] = df_new['std_price_30'] / df_new['std_price_365']\n",
    "def add_std_volume(df, df_new):\n",
    "    df_new['std_volume_5'] = df['Volume'].rolling(5).std().shift(1)\n",
    "    df_new['std_volume_30'] = df['Volume'].rolling(21).std().shift(1)\n",
    "    df_new['std_volume_365'] = df['Volume'].rolling(252).std().shift(1)\n",
    "    df_new['ratio_std_volume_5_30'] = df_new['std_volume_5'] / df_new['std_volume_30']\n",
    "    df_new['ratio_std_volume_5_365'] = df_new['std_volume_5'] / df_new['std_volume_365']\n",
    "    df_new['ratio_std_volume_30_365'] = df_new['std_volume_30'] / df_new['std_volume_365']\n",
    "def add_return_feature(df, df_new):\n",
    "    df_new['return_1'] = ((df['Close'] - df['Close'].shift(1)) / df['Close'].shift(1)).shift(1)\n",
    "    df_new['return_5'] = ((df['Close'] - df['Close'].shift(5)) / df['Close'].shift(5)).shift(1)\n",
    "    df_new['return_30'] = ((df['Close'] - df['Close'].shift(21)) / df['Close'].shift(21)).shift(1)\n",
    "    df_new['return_365'] = ((df['Close'] - df['Close'].shift(252)) / df['Close'].shift(252)).shift(1)\n",
    "    df_new['moving_avg_5'] = df_new['return_1'].rolling(5).mean().shift(1)\n",
    "    df_new['moving_avg_30'] = d f_new['return_1'].rolling(21).mean().shift(1)\n",
    "    df_new['moving_avg_365'] = df_new['return_1'].rolling(252).mean().shift(1)\n",
    "def generate_features(df):\n",
    "    df_new = pd.DataFrame()\n",
    "    add_original_feature(df, df_new)\n",
    "    add_avg_price(df, df_new)\n",
    "    add_avg_volume(df, df_new)\n",
    "    add_std_price(df, df_new)\n",
    "    add_std_volume(df, df_new)\n",
    "    add_return_feature(df, df_new)\n",
    "    df_new['close'] = df['Close']\n",
    "    df_new = df_new.dropna(axis=0)\n",
    "    return df_new"
   ]
  },
  {
   "cell_type": "code",
   "execution_count": 48,
   "id": "2d255e74",
   "metadata": {},
   "outputs": [
    {
     "name": "stdout",
     "output_type": "stream",
     "text": [
      "            open  open_1  close_1  high_1   low_1    volume_1  avg_price_5  \\\n",
      "Date                                                                         \n",
      "1993-01-04  3301  3321.0   3301.0  3328.0  3301.0  13860000.0       3318.4   \n",
      "1993-01-05  3309  3301.0   3309.0  3319.0  3299.0  21400000.0       3315.0   \n",
      "1993-01-06  3308  3309.0   3308.0  3321.0  3301.0  28060000.0       3310.0   \n",
      "1993-01-07  3305  3308.0   3305.0  3312.0  3291.0  35790000.0       3308.8   \n",
      "1993-01-08  3269  3305.0   3269.0  3313.0  3261.0  36820000.0       3298.4   \n",
      "\n",
      "            avg_price_30  avg_price_365  ratio_avg_price_5_30  ...  \\\n",
      "Date                                                           ...   \n",
      "1993-01-04      3303.524       3284.861                 1.005  ...   \n",
      "1993-01-05      3304.619       3285.294                 1.003  ...   \n",
      "1993-01-06      3306.095       3285.702                 1.001  ...   \n",
      "1993-01-07      3306.857       3286.103                 1.001  ...   \n",
      "1993-01-08      3305.048       3286.337                 0.998  ...   \n",
      "\n",
      "            ratio_std_volume_5_365  ratio_std_volume_30_365  return_1  \\\n",
      "Date                                                                    \n",
      "1993-01-04                   1.098                    1.559    -0.006   \n",
      "1993-01-05                   0.970                    1.562     0.002   \n",
      "1993-01-06                   1.145                    1.571    -0.000   \n",
      "1993-01-07                   1.692                    1.639    -0.001   \n",
      "1993-01-08                   1.807                    1.704    -0.011   \n",
      "\n",
      "            return_5  return_30  return_365  moving_avg_5  moving_avg_30  \\\n",
      "Date                                                                       \n",
      "1993-01-04    -0.004      0.002       0.031         0.000            0.0   \n",
      "1993-01-05    -0.005      0.007       0.034        -0.001            0.0   \n",
      "1993-01-06    -0.008      0.009       0.032        -0.001            0.0   \n",
      "1993-01-07    -0.002      0.005       0.032        -0.001            0.0   \n",
      "1993-01-08    -0.016     -0.011       0.018        -0.000            0.0   \n",
      "\n",
      "            moving_avg_365  close  \n",
      "Date                               \n",
      "1993-01-04             0.0   3309  \n",
      "1993-01-05             0.0   3308  \n",
      "1993-01-06             0.0   3305  \n",
      "1993-01-07             0.0   3269  \n",
      "1993-01-08             0.0   3252  \n",
      "\n",
      "[5 rows x 38 columns]\n"
     ]
    }
   ],
   "source": [
    "import pandas as pd\n",
    "data_raw = pd.read_csv('19880101_20191231.csv', index_col='Date')\n",
    "data = generate_features(data_raw)\n",
    "print(data.round(decimals=3).head(5))"
   ]
  },
  {
   "cell_type": "code",
   "execution_count": 70,
   "id": "eb6df0de",
   "metadata": {},
   "outputs": [
    {
     "name": "stdout",
     "output_type": "stream",
     "text": [
      "(6547, 37)\n",
      "(6547,)\n",
      "(251, 37)\n",
      "(251,)\n"
     ]
    }
   ],
   "source": [
    "data_raw = pd.read_csv('19880101_20191231.csv', index_col='Date')\n",
    "data = generate_features(data_raw)\n",
    "data_train = data.loc['1988-01-01':'2018-12-31']\n",
    "data_test = data.loc['2019-01-01':'2019-12-31']\n",
    "X_train = data_train.drop('close', axis=1).values\n",
    "y_train = data_train['close'].values\n",
    "X_test = data_test.drop('close', axis=1).values\n",
    "y_test = data_test['close'].values\n",
    "print(X_train.shape)\n",
    "print(y_train.shape)\n",
    "print(X_test.shape)\n",
    "print(y_test.shape)"
   ]
  },
  {
   "cell_type": "code",
   "execution_count": 71,
   "id": "05a83ccc",
   "metadata": {},
   "outputs": [
    {
     "data": {
      "text/plain": [
       "GridSearchCV(cv=5, estimator=SGDRegressor(random_state=42),\n",
       "             param_grid={'alpha': [0.0001, 0.0003, 0.001],\n",
       "                         'eta0': [0.01, 0.03, 0.1]},\n",
       "             scoring='r2')"
      ]
     },
     "execution_count": 71,
     "metadata": {},
     "output_type": "execute_result"
    }
   ],
   "source": [
    "from sklearn.preprocessing import StandardScaler\n",
    "scaler = StandardScaler()\n",
    "X_scaled_train = scaler.fit_transform(X_train)\n",
    "X_scaled_test = scaler.transform(X_test)\n",
    "from sklearn.model_selection import GridSearchCV\n",
    "param_grid = {\"alpha\": [1e-4, 3e-4, 1e-3],\"eta0\": [0.01, 0.03, 0.1],}\n",
    "lr = SGDRegressor(penalty='l2', max_iter=1000, random_state=42)\n",
    "grid_search = GridSearchCV(lr, param_grid, cv=5, scoring='r2')\n",
    "grid_search.fit(X_scaled_train, y_train)"
   ]
  },
  {
   "cell_type": "code",
   "execution_count": 72,
   "id": "ec30a3f0",
   "metadata": {},
   "outputs": [
    {
     "name": "stdout",
     "output_type": "stream",
     "text": [
      "{'alpha': 0.0001, 'eta0': 0.01}\n"
     ]
    }
   ],
   "source": [
    "print(grid_search.best_params_)\n",
    "lr_best = grid_search.best_estimator_\n",
    "predictions_lr = lr_best.predict(X_scaled_test)"
   ]
  },
  {
   "cell_type": "code",
   "execution_count": 73,
   "id": "4086c4eb",
   "metadata": {},
   "outputs": [
    {
     "name": "stdout",
     "output_type": "stream",
     "text": [
      "MSE: 43197.110\n",
      "MAE: 156.974\n",
      "R^2: 0.962\n"
     ]
    }
   ],
   "source": [
    "from sklearn.metrics import mean_squared_error,mean_absolute_error, r2_score\n",
    "\n",
    "print(f'MSE: {mean_squared_error(y_test, predictions_lr):.3f}')\n",
    "print(f'MAE: {mean_absolute_error(y_test, predictions_lr):.3f}')\n",
    "print(f'R^2: {r2_score(y_test, predictions_lr):.3f}')"
   ]
  },
  {
   "cell_type": "code",
   "execution_count": 74,
   "id": "67516737",
   "metadata": {},
   "outputs": [
    {
     "data": {
      "text/plain": [
       "GridSearchCV(cv=5, estimator=RandomForestRegressor(n_jobs=-1, random_state=42),\n",
       "             n_jobs=-1,\n",
       "             param_grid={'max_depth': [30, 50], 'min_samples_leaf': [3, 5],\n",
       "                         'min_samples_split': [2, 5, 10]},\n",
       "             scoring='r2')"
      ]
     },
     "execution_count": 74,
     "metadata": {},
     "output_type": "execute_result"
    }
   ],
   "source": [
    "param_grid = {'max_depth': [30, 50],'min_samples_split': [2, 5, 10],'min_samples_leaf': [3, 5]}\n",
    "rf = RandomForestRegressor(n_estimators=100, n_jobs=-1,max_features='auto', random_state=42)\n",
    "grid_search = GridSearchCV(rf, param_grid, cv=5, scoring='r2', n_jobs=-1)\n",
    "grid_search.fit(X_train, y_train)"
   ]
  },
  {
   "cell_type": "code",
   "execution_count": 75,
   "id": "734e97aa",
   "metadata": {},
   "outputs": [
    {
     "name": "stdout",
     "output_type": "stream",
     "text": [
      "{'max_depth': 30, 'min_samples_leaf': 3, 'min_samples_split': 10}\n"
     ]
    }
   ],
   "source": [
    "print(grid_search.best_params_)\n",
    "rf_best = grid_search.best_estimator_\n",
    "predictions_rf = rf_best.predict(X_test)"
   ]
  },
  {
   "cell_type": "code",
   "execution_count": 76,
   "id": "622bcb09",
   "metadata": {},
   "outputs": [
    {
     "name": "stdout",
     "output_type": "stream",
     "text": [
      "MSE: 418870.545\n",
      "MAE: 420.219\n",
      "R^2: 0.635\n"
     ]
    }
   ],
   "source": [
    "print(f'MSE: {mean_squared_error(y_test, predictions_rf):.3f}')\n",
    "print(f'MAE: {mean_absolute_error(y_test, predictions_rf):.3f}')\n",
    "print(f'R^2: {r2_score(y_test, predictions_rf):.3f}')"
   ]
  },
  {
   "cell_type": "code",
   "execution_count": 77,
   "id": "f9ca8452",
   "metadata": {},
   "outputs": [
    {
     "data": {
      "text/plain": [
       "GridSearchCV(cv=5, estimator=SVR(),\n",
       "             param_grid=[{'C': [500], 'epsilon': [0.0001],\n",
       "                          'kernel': ['linear']}],\n",
       "             scoring='r2')"
      ]
     },
     "execution_count": 77,
     "metadata": {},
     "output_type": "execute_result"
    }
   ],
   "source": [
    "param_grid = [{'kernel': ['linear'], 'C': [500],'epsilon': [0.0001]}]\n",
    "svr = SVR()\n",
    "grid_search = GridSearchCV(svr, param_grid, cv=5, scoring='r2')\n",
    "grid_search.fit(X_scaled_train, y_train)"
   ]
  },
  {
   "cell_type": "code",
   "execution_count": 78,
   "id": "5ea1f3ed",
   "metadata": {},
   "outputs": [
    {
     "name": "stdout",
     "output_type": "stream",
     "text": [
      "{'C': 500, 'epsilon': 0.0001, 'kernel': 'linear'}\n",
      "MSE: 29472.096\n",
      "MAE: 122.525\n",
      "R^2: 0.974\n"
     ]
    }
   ],
   "source": [
    "print(grid_search.best_params_)\n",
    "svr_best = grid_search.best_estimator_\n",
    "predictions_svr = svr_best.predict(X_scaled_test)\n",
    "print(f'MSE: {mean_squared_error(y_test, predictions_svr):.3f}')\n",
    "print(f'MAE: {mean_absolute_error(y_test, predictions_svr):.3f}')\n",
    "print(f'R^2: {r2_score(y_test, predictions_svr):.3f}')"
   ]
  },
  {
   "cell_type": "code",
   "execution_count": 79,
   "id": "d34a48d7",
   "metadata": {
    "scrolled": false
   },
   "outputs": [
    {
     "data": {
      "image/png": "[encoded data removed]",
      "text/plain": [
       "<Figure size 432x288 with 1 Axes>"
      ]
     },
     "metadata": {
      "needs_background": "light"
     },
     "output_type": "display_data"
    }
   ],
   "source": [
    "import matplotlib.pyplot as plt\n",
    "plt.plot(data_test.index, y_test, c='k')\n",
    "plt.plot(data_test.index, predictions_lr, c='b')\n",
    "plt.plot(data_test.index, predictions_rf, c='r')\n",
    "plt.plot(data_test.index, predictions_svr, c='g')\n",
    "plt.xticks(range(0, 252, 10), rotation=60)\n",
    "plt.xlabel('Date')\n",
    "plt.ylabel('Close price')\n",
    "plt.legend(['Truth', 'Linear regression', 'Random Forest', 'SVR'])\n",
    "plt.show()"
   ]
  },
  {
   "cell_type": "code",
   "execution_count": null,
   "id": "9301087c",
   "metadata": {},
   "outputs": [],
   "source": []
  }
 ],
 "metadata": {
  "kernelspec": {
   "display_name": "Python 3",
   "language": "python",
   "name": "python3"
  },
  "language_info": {
   "codemirror_mode": {
    "name": "ipython",
    "version": 3
   },
   "file_extension": ".py",
   "mimetype": "text/x-python",
   "name": "python",
   "nbconvert_exporter": "python",
   "pygments_lexer": "ipython3",
   "version": "3.8.8"
  }
 },
 "nbformat": 4,
 "nbformat_minor": 5
}
