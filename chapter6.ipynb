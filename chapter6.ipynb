{
 "cells": [
  {
   "cell_type": "code",
   "execution_count": 1,
   "id": "4beb68b8",
   "metadata": {},
   "outputs": [],
   "source": [
    "from pyspark.sql import SparkSession\n",
    "spark = SparkSession \\\n",
    ".builder \\\n",
    ".appName(\"test\") \\\n",
    ".getOrCreate()"
   ]
  },
  {
   "cell_type": "code",
   "execution_count": 2,
   "id": "181ab8fa",
   "metadata": {},
   "outputs": [],
   "source": [
    "df = spark.read.csv(\"/usr/local/Cellar/apache-spark/3.2.0/libexec/examples/src/main/resources/people.csv\", header=True, sep=';')"
   ]
  },
  {
   "cell_type": "code",
   "execution_count": 3,
   "id": "67816ca5",
   "metadata": {},
   "outputs": [
    {
     "name": "stdout",
     "output_type": "stream",
     "text": [
      "+-----+---+---------+\n",
      "| name|age|      job|\n",
      "+-----+---+---------+\n",
      "|Jorge| 30|Developer|\n",
      "|  Bob| 32|Developer|\n",
      "+-----+---+---------+\n",
      "\n"
     ]
    }
   ],
   "source": [
    "df.show()"
   ]
  },
  {
   "cell_type": "code",
   "execution_count": 4,
   "id": "57aecad8",
   "metadata": {},
   "outputs": [
    {
     "data": {
      "text/plain": [
       "2"
      ]
     },
     "execution_count": 4,
     "metadata": {},
     "output_type": "execute_result"
    }
   ],
   "source": [
    "df.count()"
   ]
  },
  {
   "cell_type": "code",
   "execution_count": 5,
   "id": "f22656e1",
   "metadata": {},
   "outputs": [
    {
     "name": "stdout",
     "output_type": "stream",
     "text": [
      "root\n",
      " |-- name: string (nullable = true)\n",
      " |-- age: string (nullable = true)\n",
      " |-- job: string (nullable = true)\n",
      "\n"
     ]
    }
   ],
   "source": [
    "df.printSchema()"
   ]
  },
  {
   "cell_type": "code",
   "execution_count": 6,
   "id": "d9f1ff55",
   "metadata": {},
   "outputs": [
    {
     "name": "stdout",
     "output_type": "stream",
     "text": [
      "+-----+\n",
      "| name|\n",
      "+-----+\n",
      "|Jorge|\n",
      "|  Bob|\n",
      "+-----+\n",
      "\n"
     ]
    }
   ],
   "source": [
    "df.select(\"name\").show()"
   ]
  },
  {
   "cell_type": "code",
   "execution_count": 7,
   "id": "5c532c3e",
   "metadata": {},
   "outputs": [],
   "source": [
    "spark = SparkSession\\\n",
    ".builder\\\n",
    ".appName(\"CTR\")\\\n",
    ".getOrCreate()"
   ]
  },
  {
   "cell_type": "code",
   "execution_count": 8,
   "id": "4357c16b",
   "metadata": {},
   "outputs": [],
   "source": [
    "from pyspark.sql.types import StructField, StringType, StructType, IntegerType"
   ]
  },
  {
   "cell_type": "code",
   "execution_count": 9,
   "id": "739bf63e",
   "metadata": {},
   "outputs": [],
   "source": [
    "schema=StructType([\n",
    "StructField(\"id\",StringType(),True),\n",
    "StructField(\"click\",IntegerType(),True),\n",
    "StructField(\"hour\",IntegerType(),True),\n",
    "StructField(\"C1\",StringType(),True),\n",
    "StructField(\"banner_pos\",StringType(),True),\n",
    "StructField(\"site_id\",StringType(),True),\n",
    "StructField(\"site_domain\",StringType(),True),\n",
    "StructField(\"site_category\",StringType(),True),\n",
    "StructField(\"app_id\",StringType(),True),\n",
    "StructField(\"app_domain\",StringType(),True),\n",
    "StructField(\"app_category\",StringType(),True),\n",
    "StructField(\"device_id\",StringType(),True),\n",
    "StructField(\"device_ip\",StringType(),True),\n",
    "StructField(\"device_model\",StringType(),True),\n",
    "StructField(\"device_type\",StringType(),True),\n",
    "StructField(\"device_conn_type\",StringType(),True),\n",
    "StructField(\"C14\",StringType(),True),\n",
    "StructField(\"C15\",StringType(),True),\n",
    "StructField(\"C16\",StringType(),True),\n",
    "StructField(\"C17\",StringType(),True),\n",
    "StructField(\"C18\",StringType(),True),\n",
    "StructField(\"C19\",StringType(),True),\n",
    "StructField(\"C20\",StringType(),True),\n",
    "StructField(\"C21\",StringType(),True),])"
   ]
  },
  {
   "cell_type": "code",
   "execution_count": 10,
   "id": "0bcc6a58",
   "metadata": {},
   "outputs": [],
   "source": [
    "df = spark.read.csv(\"file:/Users/hamidafzal/Documents/شخصی/etucation/arshad ut/1/machin_learning/homework6/train.csv\", schema=schema,header=True)\n"
   ]
  },
  {
   "cell_type": "code",
   "execution_count": 11,
   "id": "4db33a20",
   "metadata": {
    "scrolled": true
   },
   "outputs": [
    {
     "name": "stdout",
     "output_type": "stream",
     "text": [
      "root\n",
      " |-- id: string (nullable = true)\n",
      " |-- click: integer (nullable = true)\n",
      " |-- hour: integer (nullable = true)\n",
      " |-- C1: string (nullable = true)\n",
      " |-- banner_pos: string (nullable = true)\n",
      " |-- site_id: string (nullable = true)\n",
      " |-- site_domain: string (nullable = true)\n",
      " |-- site_category: string (nullable = true)\n",
      " |-- app_id: string (nullable = true)\n",
      " |-- app_domain: string (nullable = true)\n",
      " |-- app_category: string (nullable = true)\n",
      " |-- device_id: string (nullable = true)\n",
      " |-- device_ip: string (nullable = true)\n",
      " |-- device_model: string (nullable = true)\n",
      " |-- device_type: string (nullable = true)\n",
      " |-- device_conn_type: string (nullable = true)\n",
      " |-- C14: string (nullable = true)\n",
      " |-- C15: string (nullable = true)\n",
      " |-- C16: string (nullable = true)\n",
      " |-- C17: string (nullable = true)\n",
      " |-- C18: string (nullable = true)\n",
      " |-- C19: string (nullable = true)\n",
      " |-- C20: string (nullable = true)\n",
      " |-- C21: string (nullable = true)\n",
      "\n"
     ]
    }
   ],
   "source": [
    "df.printSchema()"
   ]
  },
  {
   "cell_type": "code",
   "execution_count": 12,
   "id": "f42679ea",
   "metadata": {},
   "outputs": [
    {
     "data": {
      "text/plain": [
       "40428967"
      ]
     },
     "execution_count": 12,
     "metadata": {},
     "output_type": "execute_result"
    }
   ],
   "source": [
    "df.count()"
   ]
  },
  {
   "cell_type": "code",
   "execution_count": 13,
   "id": "817f6c3d",
   "metadata": {},
   "outputs": [],
   "source": [
    " df =df.drop('id').drop('hour').drop('device_id').drop('device_ip')"
   ]
  },
  {
   "cell_type": "code",
   "execution_count": 14,
   "id": "b92c4953",
   "metadata": {},
   "outputs": [],
   "source": [
    "df = df.withColumnRenamed(\"click\", \"label\")"
   ]
  },
  {
   "cell_type": "code",
   "execution_count": 15,
   "id": "d9eb3032",
   "metadata": {},
   "outputs": [
    {
     "data": {
      "text/plain": [
       "['label',\n",
       " 'C1',\n",
       " 'banner_pos',\n",
       " 'site_id',\n",
       " 'site_domain',\n",
       " 'site_category',\n",
       " 'app_id',\n",
       " 'app_domain',\n",
       " 'app_category',\n",
       " 'device_model',\n",
       " 'device_type',\n",
       " 'device_conn_type',\n",
       " 'C14',\n",
       " 'C15',\n",
       " 'C16',\n",
       " 'C17',\n",
       " 'C18',\n",
       " 'C19',\n",
       " 'C20',\n",
       " 'C21']"
      ]
     },
     "execution_count": 15,
     "metadata": {},
     "output_type": "execute_result"
    }
   ],
   "source": [
    "df.columns"
   ]
  },
  {
   "cell_type": "code",
   "execution_count": 16,
   "id": "54b6eba0",
   "metadata": {},
   "outputs": [],
   "source": [
    "df_train, df_test = df.randomSplit([0.7, 0.3], 42)"
   ]
  },
  {
   "cell_type": "code",
   "execution_count": 17,
   "id": "16884f6e",
   "metadata": {},
   "outputs": [
    {
     "data": {
      "text/plain": [
       "DataFrame[label: int, C1: string, banner_pos: string, site_id: string, site_domain: string, site_category: string, app_id: string, app_domain: string, app_category: string, device_model: string, device_type: string, device_conn_type: string, C14: string, C15: string, C16: string, C17: string, C18: string, C19: string, C20: string, C21: string]"
      ]
     },
     "execution_count": 17,
     "metadata": {},
     "output_type": "execute_result"
    }
   ],
   "source": [
    "df_train.cache()"
   ]
  },
  {
   "cell_type": "code",
   "execution_count": 18,
   "id": "50e82fa9",
   "metadata": {},
   "outputs": [
    {
     "data": {
      "text/plain": [
       "28303473"
      ]
     },
     "execution_count": 18,
     "metadata": {},
     "output_type": "execute_result"
    }
   ],
   "source": [
    "df_train.count()"
   ]
  },
  {
   "cell_type": "code",
   "execution_count": 19,
   "id": "3c1499ff",
   "metadata": {},
   "outputs": [
    {
     "name": "stdout",
     "output_type": "stream",
     "text": [
      "['C1', 'banner_pos', 'site_id', 'site_domain', 'site_category', 'app_id', 'app_domain', 'app_category', 'device_model', 'device_type', 'device_conn_type', 'C14', 'C15', 'C16', 'C17', 'C18', 'C19', 'C20', 'C21']\n"
     ]
    }
   ],
   "source": [
    "categorical = df_train.columns\n",
    "categorical.remove('label')\n",
    "print(categorical)"
   ]
  },
  {
   "cell_type": "code",
   "execution_count": 20,
   "id": "b1256f9a",
   "metadata": {},
   "outputs": [],
   "source": [
    "from pyspark.ml.feature import StringIndexer\n",
    "indexers = [\n",
    "    StringIndexer(inputCol=c, outputCol=\n",
    "                  \"{0}_indexed\".format(c)).setHandleInvalid(\"keep\")\n",
    "    for c in categorical]"
   ]
  },
  {
   "cell_type": "code",
   "execution_count": 21,
   "id": "1f569a2d",
   "metadata": {},
   "outputs": [],
   "source": [
    "from pyspark.ml.feature import OneHotEncoder\n",
    "encoder = OneHotEncoder(inputCols=[indexer.getOutputCol() for indexer in indexers], outputCols=[\"{0}_encoded\".format(indexer.getOutputCol()) for indexer in indexers])"
   ]
  },
  {
   "cell_type": "code",
   "execution_count": 22,
   "id": "2b3081e4",
   "metadata": {},
   "outputs": [],
   "source": [
    "from pyspark.ml.feature import VectorAssembler\n",
    "assembler = VectorAssembler( inputCols=encoder.getOutputCols(), outputCol=\"features\")"
   ]
  },
  {
   "cell_type": "code",
   "execution_count": 23,
   "id": "3613fb8b",
   "metadata": {},
   "outputs": [],
   "source": [
    "stages = indexers + [encoder, assembler]\n",
    "from pyspark.ml import Pipeline\n",
    "pipeline = Pipeline(stages=stages)"
   ]
  },
  {
   "cell_type": "code",
   "execution_count": 24,
   "id": "d2eb54d9",
   "metadata": {},
   "outputs": [
    {
     "name": "stdout",
     "output_type": "stream",
     "text": [
      "+-----+----+----------+--------+-----------+-------------+--------+----------+------------+------------+-----------+----------------+-----+---+---+----+---+---+------+---+----------+------------------+---------------+-------------------+---------------------+--------------+------------------+--------------------+--------------------+-------------------+------------------------+-----------+-----------+-----------+-----------+-----------+-----------+-----------+-----------+------------------+--------------------------+-----------------------+---------------------------+-----------------------------+----------------------+--------------------------+----------------------------+----------------------------+---------------------------+--------------------------------+-------------------+-------------------+-------------------+-------------------+-------------------+-------------------+-------------------+-------------------+--------------------+\n",
      "|label|  C1|banner_pos| site_id|site_domain|site_category|  app_id|app_domain|app_category|device_model|device_type|device_conn_type|  C14|C15|C16| C17|C18|C19|   C20|C21|C1_indexed|banner_pos_indexed|site_id_indexed|site_domain_indexed|site_category_indexed|app_id_indexed|app_domain_indexed|app_category_indexed|device_model_indexed|device_type_indexed|device_conn_type_indexed|C14_indexed|C15_indexed|C16_indexed|C17_indexed|C18_indexed|C19_indexed|C20_indexed|C21_indexed|C1_indexed_encoded|banner_pos_indexed_encoded|site_id_indexed_encoded|site_domain_indexed_encoded|site_category_indexed_encoded|app_id_indexed_encoded|app_domain_indexed_encoded|app_category_indexed_encoded|device_model_indexed_encoded|device_type_indexed_encoded|device_conn_type_indexed_encoded|C14_indexed_encoded|C15_indexed_encoded|C16_indexed_encoded|C17_indexed_encoded|C18_indexed_encoded|C19_indexed_encoded|C20_indexed_encoded|C21_indexed_encoded|            features|\n",
      "+-----+----+----------+--------+-----------+-------------+--------+----------+------------+------------+-----------+----------------+-----+---+---+----+---+---+------+---+----------+------------------+---------------+-------------------+---------------------+--------------+------------------+--------------------+--------------------+-------------------+------------------------+-----------+-----------+-----------+-----------+-----------+-----------+-----------+-----------+------------------+--------------------------+-----------------------+---------------------------+-----------------------------+----------------------+--------------------------+----------------------------+----------------------------+---------------------------+--------------------------------+-------------------+-------------------+-------------------+-------------------+-------------------+-------------------+-------------------+-------------------+--------------------+\n",
      "|    0|1001|         0|37ecc00c|   c4e18dd6|     110ab22d|ecad2386|  7801e8d9|    07d7df22|    f07e20f8|          1|               0|20153|320| 50|2307|  3|163|100020| 61|       5.0|               0.0|         3744.0|                0.0|                 23.0|           0.0|               0.0|                 0.0|                19.0|                0.0|                     0.0|      211.0|        0.0|        0.0|      136.0|        1.0|        7.0|       34.0|        5.0|     (7,[5],[1.0])|             (7,[0],[1.0])|    (4543,[3744],[1.0])|           (7067,[0],[1.0])|              (26,[23],[1.0])|      (7991,[0],[1.0])|           (517,[0],[1.0])|              (36,[0],[1.0])|           (7967,[19],[1.0])|              (5,[0],[1.0])|                   (4,[0],[1.0])| (2607,[211],[1.0])|      (8,[0],[1.0])|      (9,[0],[1.0])|  (434,[136],[1.0])|      (4,[1],[1.0])|     (68,[7],[1.0])|   (172,[34],[1.0])|     (60,[5],[1.0])|(31532,[5,7,3758,...|\n",
      "|    0|1001|         0|51a8ceda|   c4e18dd6|     bcf865d9|ecad2386|  7801e8d9|    07d7df22|    f07e20f8|          1|               0|17877|320| 50|2036|  3| 47|100021|156|       5.0|               0.0|          778.0|                0.0|                 17.0|           0.0|               0.0|                 0.0|                19.0|                0.0|                     0.0|       63.0|        0.0|        0.0|       33.0|        1.0|        4.0|       49.0|       19.0|     (7,[5],[1.0])|             (7,[0],[1.0])|     (4543,[778],[1.0])|           (7067,[0],[1.0])|              (26,[17],[1.0])|      (7991,[0],[1.0])|           (517,[0],[1.0])|              (36,[0],[1.0])|           (7967,[19],[1.0])|              (5,[0],[1.0])|                   (4,[0],[1.0])|  (2607,[63],[1.0])|      (8,[0],[1.0])|      (9,[0],[1.0])|   (434,[33],[1.0])|      (4,[1],[1.0])|     (68,[4],[1.0])|   (172,[49],[1.0])|    (60,[19],[1.0])|(31532,[5,7,792,4...|\n",
      "|    0|1001|         0|51a8ceda|   c4e18dd6|     bcf865d9|ecad2386|  7801e8d9|    07d7df22|    f07e20f8|          1|               0|20153|320| 50|2307|  3|163|    -1| 61|       5.0|               0.0|          778.0|                0.0|                 17.0|           0.0|               0.0|                 0.0|                19.0|                0.0|                     0.0|      211.0|        0.0|        0.0|      136.0|        1.0|        7.0|        0.0|        5.0|     (7,[5],[1.0])|             (7,[0],[1.0])|     (4543,[778],[1.0])|           (7067,[0],[1.0])|              (26,[17],[1.0])|      (7991,[0],[1.0])|           (517,[0],[1.0])|              (36,[0],[1.0])|           (7967,[19],[1.0])|              (5,[0],[1.0])|                   (4,[0],[1.0])| (2607,[211],[1.0])|      (8,[0],[1.0])|      (9,[0],[1.0])|  (434,[136],[1.0])|      (4,[1],[1.0])|     (68,[7],[1.0])|    (172,[0],[1.0])|     (60,[5],[1.0])|(31532,[5,7,792,4...|\n",
      "|    0|1001|         0|51a8ceda|   c4e18dd6|     bcf865d9|ecad2386|  7801e8d9|    07d7df22|    f07e20f8|          1|               0|20153|320| 50|2307|  3|163|100020| 61|       5.0|               0.0|          778.0|                0.0|                 17.0|           0.0|               0.0|                 0.0|                19.0|                0.0|                     0.0|      211.0|        0.0|        0.0|      136.0|        1.0|        7.0|       34.0|        5.0|     (7,[5],[1.0])|             (7,[0],[1.0])|     (4543,[778],[1.0])|           (7067,[0],[1.0])|              (26,[17],[1.0])|      (7991,[0],[1.0])|           (517,[0],[1.0])|              (36,[0],[1.0])|           (7967,[19],[1.0])|              (5,[0],[1.0])|                   (4,[0],[1.0])| (2607,[211],[1.0])|      (8,[0],[1.0])|      (9,[0],[1.0])|  (434,[136],[1.0])|      (4,[1],[1.0])|     (68,[7],[1.0])|   (172,[34],[1.0])|     (60,[5],[1.0])|(31532,[5,7,792,4...|\n",
      "|    0|1001|         0|51a8ceda|   c4e18dd6|     bcf865d9|ecad2386|  7801e8d9|    07d7df22|    f07e20f8|          1|               0|20153|320| 50|2307|  3|163|100020| 61|       5.0|               0.0|          778.0|                0.0|                 17.0|           0.0|               0.0|                 0.0|                19.0|                0.0|                     0.0|      211.0|        0.0|        0.0|      136.0|        1.0|        7.0|       34.0|        5.0|     (7,[5],[1.0])|             (7,[0],[1.0])|     (4543,[778],[1.0])|           (7067,[0],[1.0])|              (26,[17],[1.0])|      (7991,[0],[1.0])|           (517,[0],[1.0])|              (36,[0],[1.0])|           (7967,[19],[1.0])|              (5,[0],[1.0])|                   (4,[0],[1.0])| (2607,[211],[1.0])|      (8,[0],[1.0])|      (9,[0],[1.0])|  (434,[136],[1.0])|      (4,[1],[1.0])|     (68,[7],[1.0])|   (172,[34],[1.0])|     (60,[5],[1.0])|(31532,[5,7,792,4...|\n",
      "|    0|1001|         0|51a8ceda|   c4e18dd6|     bcf865d9|ecad2386|  7801e8d9|    07d7df22|    f07e20f8|          1|               0|20153|320| 50|2307|  3|163|100020| 61|       5.0|               0.0|          778.0|                0.0|                 17.0|           0.0|               0.0|                 0.0|                19.0|                0.0|                     0.0|      211.0|        0.0|        0.0|      136.0|        1.0|        7.0|       34.0|        5.0|     (7,[5],[1.0])|             (7,[0],[1.0])|     (4543,[778],[1.0])|           (7067,[0],[1.0])|              (26,[17],[1.0])|      (7991,[0],[1.0])|           (517,[0],[1.0])|              (36,[0],[1.0])|           (7967,[19],[1.0])|              (5,[0],[1.0])|                   (4,[0],[1.0])| (2607,[211],[1.0])|      (8,[0],[1.0])|      (9,[0],[1.0])|  (434,[136],[1.0])|      (4,[1],[1.0])|     (68,[7],[1.0])|   (172,[34],[1.0])|     (60,[5],[1.0])|(31532,[5,7,792,4...|\n",
      "|    0|1001|         0|51a8ceda|   c4e18dd6|     bcf865d9|ecad2386|  7801e8d9|    07d7df22|    f07e20f8|          1|               2|20153|320| 50|2307|  3|163|    -1| 61|       5.0|               0.0|          778.0|                0.0|                 17.0|           0.0|               0.0|                 0.0|                19.0|                0.0|                     1.0|      211.0|        0.0|        0.0|      136.0|        1.0|        7.0|        0.0|        5.0|     (7,[5],[1.0])|             (7,[0],[1.0])|     (4543,[778],[1.0])|           (7067,[0],[1.0])|              (26,[17],[1.0])|      (7991,[0],[1.0])|           (517,[0],[1.0])|              (36,[0],[1.0])|           (7967,[19],[1.0])|              (5,[0],[1.0])|                   (4,[1],[1.0])| (2607,[211],[1.0])|      (8,[0],[1.0])|      (9,[0],[1.0])|  (434,[136],[1.0])|      (4,[1],[1.0])|     (68,[7],[1.0])|    (172,[0],[1.0])|     (60,[5],[1.0])|(31532,[5,7,792,4...|\n",
      "|    0|1001|         0|51a8ceda|   c4e18dd6|     bcf865d9|ecad2386|  7801e8d9|    07d7df22|    f07e20f8|          1|               2|20153|320| 50|2307|  3|163|    -1| 61|       5.0|               0.0|          778.0|                0.0|                 17.0|           0.0|               0.0|                 0.0|                19.0|                0.0|                     1.0|      211.0|        0.0|        0.0|      136.0|        1.0|        7.0|        0.0|        5.0|     (7,[5],[1.0])|             (7,[0],[1.0])|     (4543,[778],[1.0])|           (7067,[0],[1.0])|              (26,[17],[1.0])|      (7991,[0],[1.0])|           (517,[0],[1.0])|              (36,[0],[1.0])|           (7967,[19],[1.0])|              (5,[0],[1.0])|                   (4,[1],[1.0])| (2607,[211],[1.0])|      (8,[0],[1.0])|      (9,[0],[1.0])|  (434,[136],[1.0])|      (4,[1],[1.0])|     (68,[7],[1.0])|    (172,[0],[1.0])|     (60,[5],[1.0])|(31532,[5,7,792,4...|\n",
      "|    0|1001|         0|51a8ceda|   c4e18dd6|     bcf865d9|ecad2386|  7801e8d9|    07d7df22|    f07e20f8|          1|               2|20153|320| 50|2307|  3|163|    -1| 61|       5.0|               0.0|          778.0|                0.0|                 17.0|           0.0|               0.0|                 0.0|                19.0|                0.0|                     1.0|      211.0|        0.0|        0.0|      136.0|        1.0|        7.0|        0.0|        5.0|     (7,[5],[1.0])|             (7,[0],[1.0])|     (4543,[778],[1.0])|           (7067,[0],[1.0])|              (26,[17],[1.0])|      (7991,[0],[1.0])|           (517,[0],[1.0])|              (36,[0],[1.0])|           (7967,[19],[1.0])|              (5,[0],[1.0])|                   (4,[1],[1.0])| (2607,[211],[1.0])|      (8,[0],[1.0])|      (9,[0],[1.0])|  (434,[136],[1.0])|      (4,[1],[1.0])|     (68,[7],[1.0])|    (172,[0],[1.0])|     (60,[5],[1.0])|(31532,[5,7,792,4...|\n",
      "|    0|1001|         0|51a8ceda|   c4e18dd6|     bcf865d9|ecad2386|  7801e8d9|    07d7df22|    f07e20f8|          1|               2|20153|320| 50|2307|  3|163|    -1| 61|       5.0|               0.0|          778.0|                0.0|                 17.0|           0.0|               0.0|                 0.0|                19.0|                0.0|                     1.0|      211.0|        0.0|        0.0|      136.0|        1.0|        7.0|        0.0|        5.0|     (7,[5],[1.0])|             (7,[0],[1.0])|     (4543,[778],[1.0])|           (7067,[0],[1.0])|              (26,[17],[1.0])|      (7991,[0],[1.0])|           (517,[0],[1.0])|              (36,[0],[1.0])|           (7967,[19],[1.0])|              (5,[0],[1.0])|                   (4,[1],[1.0])| (2607,[211],[1.0])|      (8,[0],[1.0])|      (9,[0],[1.0])|  (434,[136],[1.0])|      (4,[1],[1.0])|     (68,[7],[1.0])|    (172,[0],[1.0])|     (60,[5],[1.0])|(31532,[5,7,792,4...|\n",
      "|    0|1001|         0|51a8ceda|   c4e18dd6|     bcf865d9|ecad2386|  7801e8d9|    07d7df22|    f07e20f8|          1|               2|20153|320| 50|2307|  3|163|100020| 61|       5.0|               0.0|          778.0|                0.0|                 17.0|           0.0|               0.0|                 0.0|                19.0|                0.0|                     1.0|      211.0|        0.0|        0.0|      136.0|        1.0|        7.0|       34.0|        5.0|     (7,[5],[1.0])|             (7,[0],[1.0])|     (4543,[778],[1.0])|           (7067,[0],[1.0])|              (26,[17],[1.0])|      (7991,[0],[1.0])|           (517,[0],[1.0])|              (36,[0],[1.0])|           (7967,[19],[1.0])|              (5,[0],[1.0])|                   (4,[1],[1.0])| (2607,[211],[1.0])|      (8,[0],[1.0])|      (9,[0],[1.0])|  (434,[136],[1.0])|      (4,[1],[1.0])|     (68,[7],[1.0])|   (172,[34],[1.0])|     (60,[5],[1.0])|(31532,[5,7,792,4...|\n",
      "|    0|1001|         0|52c718ba|   c4e18dd6|     9ccfa2ea|ecad2386|  7801e8d9|    07d7df22|    f07e20f8|          1|               0|20153|320| 50|2307|  3|163|100020| 61|       5.0|               0.0|         1308.0|                0.0|                 19.0|           0.0|               0.0|                 0.0|                19.0|                0.0|                     0.0|      211.0|        0.0|        0.0|      136.0|        1.0|        7.0|       34.0|        5.0|     (7,[5],[1.0])|             (7,[0],[1.0])|    (4543,[1308],[1.0])|           (7067,[0],[1.0])|              (26,[19],[1.0])|      (7991,[0],[1.0])|           (517,[0],[1.0])|              (36,[0],[1.0])|           (7967,[19],[1.0])|              (5,[0],[1.0])|                   (4,[0],[1.0])| (2607,[211],[1.0])|      (8,[0],[1.0])|      (9,[0],[1.0])|  (434,[136],[1.0])|      (4,[1],[1.0])|     (68,[7],[1.0])|   (172,[34],[1.0])|     (60,[5],[1.0])|(31532,[5,7,1322,...|\n",
      "|    0|1001|         0|52c718ba|   c4e18dd6|     9ccfa2ea|ecad2386|  7801e8d9|    07d7df22|    f07e20f8|          1|               0|20153|320| 50|2307|  3|163|100020| 61|       5.0|               0.0|         1308.0|                0.0|                 19.0|           0.0|               0.0|                 0.0|                19.0|                0.0|                     0.0|      211.0|        0.0|        0.0|      136.0|        1.0|        7.0|       34.0|        5.0|     (7,[5],[1.0])|             (7,[0],[1.0])|    (4543,[1308],[1.0])|           (7067,[0],[1.0])|              (26,[19],[1.0])|      (7991,[0],[1.0])|           (517,[0],[1.0])|              (36,[0],[1.0])|           (7967,[19],[1.0])|              (5,[0],[1.0])|                   (4,[0],[1.0])| (2607,[211],[1.0])|      (8,[0],[1.0])|      (9,[0],[1.0])|  (434,[136],[1.0])|      (4,[1],[1.0])|     (68,[7],[1.0])|   (172,[34],[1.0])|     (60,[5],[1.0])|(31532,[5,7,1322,...|\n",
      "|    0|1001|         0|5f54e2e5|   c4e18dd6|     76b2941d|ecad2386|  7801e8d9|    07d7df22|    f07e20f8|          1|               0|20153|320| 50|2307|  3|163|100020| 61|       5.0|               0.0|         1525.0|                0.0|                  7.0|           0.0|               0.0|                 0.0|                19.0|                0.0|                     0.0|      211.0|        0.0|        0.0|      136.0|        1.0|        7.0|       34.0|        5.0|     (7,[5],[1.0])|             (7,[0],[1.0])|    (4543,[1525],[1.0])|           (7067,[0],[1.0])|               (26,[7],[1.0])|      (7991,[0],[1.0])|           (517,[0],[1.0])|              (36,[0],[1.0])|           (7967,[19],[1.0])|              (5,[0],[1.0])|                   (4,[0],[1.0])| (2607,[211],[1.0])|      (8,[0],[1.0])|      (9,[0],[1.0])|  (434,[136],[1.0])|      (4,[1],[1.0])|     (68,[7],[1.0])|   (172,[34],[1.0])|     (60,[5],[1.0])|(31532,[5,7,1539,...|\n",
      "|    0|1001|         0|85f751fd|   c4e18dd6|     50e219e0|040daf6f|  7801e8d9|    7113d72a|    f07e20f8|          1|               0|20153|320| 50|2307|  3|163|    -1| 61|       5.0|               0.0|            0.0|                0.0|                  0.0|        1066.0|               0.0|                21.0|                19.0|                0.0|                     0.0|      211.0|        0.0|        0.0|      136.0|        1.0|        7.0|        0.0|        5.0|     (7,[5],[1.0])|             (7,[0],[1.0])|       (4543,[0],[1.0])|           (7067,[0],[1.0])|               (26,[0],[1.0])|   (7991,[1066],[1.0])|           (517,[0],[1.0])|             (36,[21],[1.0])|           (7967,[19],[1.0])|              (5,[0],[1.0])|                   (4,[0],[1.0])| (2607,[211],[1.0])|      (8,[0],[1.0])|      (9,[0],[1.0])|  (434,[136],[1.0])|      (4,[1],[1.0])|     (68,[7],[1.0])|    (172,[0],[1.0])|     (60,[5],[1.0])|(31532,[5,7,14,45...|\n",
      "|    0|1001|         0|85f751fd|   c4e18dd6|     50e219e0|040daf6f|  7801e8d9|    7113d72a|    f07e20f8|          1|               0|20153|320| 50|2307|  3|163|    -1| 61|       5.0|               0.0|            0.0|                0.0|                  0.0|        1066.0|               0.0|                21.0|                19.0|                0.0|                     0.0|      211.0|        0.0|        0.0|      136.0|        1.0|        7.0|        0.0|        5.0|     (7,[5],[1.0])|             (7,[0],[1.0])|       (4543,[0],[1.0])|           (7067,[0],[1.0])|               (26,[0],[1.0])|   (7991,[1066],[1.0])|           (517,[0],[1.0])|             (36,[21],[1.0])|           (7967,[19],[1.0])|              (5,[0],[1.0])|                   (4,[0],[1.0])| (2607,[211],[1.0])|      (8,[0],[1.0])|      (9,[0],[1.0])|  (434,[136],[1.0])|      (4,[1],[1.0])|     (68,[7],[1.0])|    (172,[0],[1.0])|     (60,[5],[1.0])|(31532,[5,7,14,45...|\n",
      "|    0|1001|         0|85f751fd|   c4e18dd6|     50e219e0|040daf6f|  7801e8d9|    7113d72a|    f07e20f8|          1|               0|20153|320| 50|2307|  3|163|    -1| 61|       5.0|               0.0|            0.0|                0.0|                  0.0|        1066.0|               0.0|                21.0|                19.0|                0.0|                     0.0|      211.0|        0.0|        0.0|      136.0|        1.0|        7.0|        0.0|        5.0|     (7,[5],[1.0])|             (7,[0],[1.0])|       (4543,[0],[1.0])|           (7067,[0],[1.0])|               (26,[0],[1.0])|   (7991,[1066],[1.0])|           (517,[0],[1.0])|             (36,[21],[1.0])|           (7967,[19],[1.0])|              (5,[0],[1.0])|                   (4,[0],[1.0])| (2607,[211],[1.0])|      (8,[0],[1.0])|      (9,[0],[1.0])|  (434,[136],[1.0])|      (4,[1],[1.0])|     (68,[7],[1.0])|    (172,[0],[1.0])|     (60,[5],[1.0])|(31532,[5,7,14,45...|\n",
      "|    0|1001|         0|85f751fd|   c4e18dd6|     50e219e0|040daf6f|  7801e8d9|    7113d72a|    f07e20f8|          1|               0|20153|320| 50|2307|  3|163|100020| 61|       5.0|               0.0|            0.0|                0.0|                  0.0|        1066.0|               0.0|                21.0|                19.0|                0.0|                     0.0|      211.0|        0.0|        0.0|      136.0|        1.0|        7.0|       34.0|        5.0|     (7,[5],[1.0])|             (7,[0],[1.0])|       (4543,[0],[1.0])|           (7067,[0],[1.0])|               (26,[0],[1.0])|   (7991,[1066],[1.0])|           (517,[0],[1.0])|             (36,[21],[1.0])|           (7967,[19],[1.0])|              (5,[0],[1.0])|                   (4,[0],[1.0])| (2607,[211],[1.0])|      (8,[0],[1.0])|      (9,[0],[1.0])|  (434,[136],[1.0])|      (4,[1],[1.0])|     (68,[7],[1.0])|   (172,[34],[1.0])|     (60,[5],[1.0])|(31532,[5,7,14,45...|\n",
      "|    0|1001|         0|85f751fd|   c4e18dd6|     50e219e0|040daf6f|  7801e8d9|    7113d72a|    f07e20f8|          1|               0|20153|320| 50|2307|  3|163|100020| 61|       5.0|               0.0|            0.0|                0.0|                  0.0|        1066.0|               0.0|                21.0|                19.0|                0.0|                     0.0|      211.0|        0.0|        0.0|      136.0|        1.0|        7.0|       34.0|        5.0|     (7,[5],[1.0])|             (7,[0],[1.0])|       (4543,[0],[1.0])|           (7067,[0],[1.0])|               (26,[0],[1.0])|   (7991,[1066],[1.0])|           (517,[0],[1.0])|             (36,[21],[1.0])|           (7967,[19],[1.0])|              (5,[0],[1.0])|                   (4,[0],[1.0])| (2607,[211],[1.0])|      (8,[0],[1.0])|      (9,[0],[1.0])|  (434,[136],[1.0])|      (4,[1],[1.0])|     (68,[7],[1.0])|   (172,[34],[1.0])|     (60,[5],[1.0])|(31532,[5,7,14,45...|\n",
      "|    0|1001|         0|85f751fd|   c4e18dd6|     50e219e0|057fc067|  7801e8d9|    75d80bbe|    f07e20f8|          1|               2|20476|320| 50|2348|  3|427|100003| 61|       5.0|               0.0|            0.0|                0.0|                  0.0|        2053.0|               0.0|                 8.0|                19.0|                0.0|                     1.0|       99.0|        0.0|        0.0|       94.0|        1.0|       23.0|       28.0|        5.0|     (7,[5],[1.0])|             (7,[0],[1.0])|       (4543,[0],[1.0])|           (7067,[0],[1.0])|               (26,[0],[1.0])|   (7991,[2053],[1.0])|           (517,[0],[1.0])|              (36,[8],[1.0])|           (7967,[19],[1.0])|              (5,[0],[1.0])|                   (4,[1],[1.0])|  (2607,[99],[1.0])|      (8,[0],[1.0])|      (9,[0],[1.0])|   (434,[94],[1.0])|      (4,[1],[1.0])|    (68,[23],[1.0])|   (172,[28],[1.0])|     (60,[5],[1.0])|(31532,[5,7,14,45...|\n",
      "+-----+----+----------+--------+-----------+-------------+--------+----------+------------+------------+-----------+----------------+-----+---+---+----+---+---+------+---+----------+------------------+---------------+-------------------+---------------------+--------------+------------------+--------------------+--------------------+-------------------+------------------------+-----------+-----------+-----------+-----------+-----------+-----------+-----------+-----------+------------------+--------------------------+-----------------------+---------------------------+-----------------------------+----------------------+--------------------------+----------------------------+----------------------------+---------------------------+--------------------------------+-------------------+-------------------+-------------------+-------------------+-------------------+-------------------+-------------------+-------------------+--------------------+\n",
      "only showing top 20 rows\n",
      "\n"
     ]
    }
   ],
   "source": [
    "one_hot_encoder = pipeline.fit(df_train)\n",
    "df_train_encoded = one_hot_encoder.transform(df_train)\n",
    "df_train_encoded.show()"
   ]
  },
  {
   "cell_type": "code",
   "execution_count": 25,
   "id": "083aedbd",
   "metadata": {},
   "outputs": [
    {
     "name": "stdout",
     "output_type": "stream",
     "text": [
      "+-----+--------------------+\n",
      "|label|            features|\n",
      "+-----+--------------------+\n",
      "|    0|(31532,[5,7,3758,...|\n",
      "|    0|(31532,[5,7,792,4...|\n",
      "|    0|(31532,[5,7,792,4...|\n",
      "|    0|(31532,[5,7,792,4...|\n",
      "|    0|(31532,[5,7,792,4...|\n",
      "|    0|(31532,[5,7,792,4...|\n",
      "|    0|(31532,[5,7,792,4...|\n",
      "|    0|(31532,[5,7,792,4...|\n",
      "|    0|(31532,[5,7,792,4...|\n",
      "|    0|(31532,[5,7,792,4...|\n",
      "|    0|(31532,[5,7,792,4...|\n",
      "|    0|(31532,[5,7,1322,...|\n",
      "|    0|(31532,[5,7,1322,...|\n",
      "|    0|(31532,[5,7,1539,...|\n",
      "|    0|(31532,[5,7,14,45...|\n",
      "|    0|(31532,[5,7,14,45...|\n",
      "|    0|(31532,[5,7,14,45...|\n",
      "|    0|(31532,[5,7,14,45...|\n",
      "|    0|(31532,[5,7,14,45...|\n",
      "|    0|(31532,[5,7,14,45...|\n",
      "+-----+--------------------+\n",
      "only showing top 20 rows\n",
      "\n"
     ]
    }
   ],
   "source": [
    "df_train_encoded = df_train_encoded.select([\"label\", \"features\"])\n",
    "df_train_encoded.show()"
   ]
  },
  {
   "cell_type": "code",
   "execution_count": 26,
   "id": "9e500bbb",
   "metadata": {},
   "outputs": [
    {
     "data": {
      "text/plain": [
       "DataFrame[label: int, features: vector]"
      ]
     },
     "execution_count": 26,
     "metadata": {},
     "output_type": "execute_result"
    }
   ],
   "source": [
    "df_train_encoded.cache()"
   ]
  },
  {
   "cell_type": "code",
   "execution_count": 27,
   "id": "30e64154",
   "metadata": {},
   "outputs": [
    {
     "data": {
      "text/plain": [
       "DataFrame[label: int, C1: string, banner_pos: string, site_id: string, site_domain: string, site_category: string, app_id: string, app_domain: string, app_category: string, device_model: string, device_type: string, device_conn_type: string, C14: string, C15: string, C16: string, C17: string, C18: string, C19: string, C20: string, C21: string]"
      ]
     },
     "execution_count": 27,
     "metadata": {},
     "output_type": "execute_result"
    }
   ],
   "source": [
    "df_train.unpersist()"
   ]
  },
  {
   "cell_type": "code",
   "execution_count": 28,
   "id": "9b950934",
   "metadata": {},
   "outputs": [
    {
     "name": "stdout",
     "output_type": "stream",
     "text": [
      "+-----+--------------------+\n",
      "|label|            features|\n",
      "+-----+--------------------+\n",
      "|    0|(31532,[5,7,792,4...|\n",
      "|    0|(31532,[5,7,792,4...|\n",
      "|    0|(31532,[5,7,792,4...|\n",
      "|    0|(31532,[5,7,792,4...|\n",
      "|    0|(31532,[5,7,792,4...|\n",
      "|    0|(31532,[5,7,792,4...|\n",
      "|    0|(31532,[5,7,792,4...|\n",
      "|    0|(31532,[5,7,1322,...|\n",
      "|    0|(31532,[5,7,1322,...|\n",
      "|    0|(31532,[5,7,4557,...|\n",
      "|    0|(31532,[5,7,14,45...|\n",
      "|    0|(31532,[5,7,14,45...|\n",
      "|    0|(31532,[5,7,14,45...|\n",
      "|    0|(31532,[5,7,14,45...|\n",
      "|    0|(31532,[5,7,14,45...|\n",
      "|    0|(31532,[5,7,14,45...|\n",
      "|    0|(31532,[5,7,14,45...|\n",
      "|    0|(31532,[5,7,14,45...|\n",
      "|    0|(31532,[5,7,14,45...|\n",
      "|    0|(31532,[5,7,14,45...|\n",
      "+-----+--------------------+\n",
      "only showing top 20 rows\n",
      "\n"
     ]
    }
   ],
   "source": [
    "df_test_encoded = one_hot_encoder.transform(df_test)\n",
    "df_test_encoded = df_test_encoded.select([\"label\", \"features\"])\n",
    "df_test_encoded.show()"
   ]
  },
  {
   "cell_type": "code",
   "execution_count": 29,
   "id": "77471901",
   "metadata": {},
   "outputs": [
    {
     "data": {
      "text/plain": [
       "DataFrame[label: int, C1: string, banner_pos: string, site_id: string, site_domain: string, site_category: string, app_id: string, app_domain: string, app_category: string, device_model: string, device_type: string, device_conn_type: string, C14: string, C15: string, C16: string, C17: string, C18: string, C19: string, C20: string, C21: string]"
      ]
     },
     "execution_count": 29,
     "metadata": {},
     "output_type": "execute_result"
    }
   ],
   "source": [
    "df_test_encoded.cache()\n",
    "df_test.unpersist()"
   ]
  },
  {
   "cell_type": "code",
   "execution_count": 30,
   "id": "e27439c4",
   "metadata": {},
   "outputs": [],
   "source": [
    "from pyspark.ml.classification import LogisticRegression\n",
    "classifier = LogisticRegression(maxIter=20, regParam=0.001,elasticNetParam=0.001)"
   ]
  },
  {
   "cell_type": "code",
   "execution_count": 31,
   "id": "d69a759b",
   "metadata": {},
   "outputs": [
    {
     "name": "stderr",
     "output_type": "stream",
     "text": [
      "ERROR:root:Exception while sending command.\n",
      "Traceback (most recent call last):\n",
      "  File \"/Users/hamidafzal/opt/anaconda3/lib/python3.8/site-packages/IPython/core/interactiveshell.py\", line 3437, in run_code\n",
      "    exec(code_obj, self.user_global_ns, self.user_ns)\n",
      "  File \"<ipython-input-31-ac58a0a5bf87>\", line 1, in <module>\n",
      "    lr_model = classifier.fit(df_train_encoded)\n",
      "  File \"/usr/local/Cellar/apache-spark/3.2.0/libexec/python/pyspark/ml/base.py\", line 161, in fit\n",
      "    return self._fit(dataset)\n",
      "  File \"/usr/local/Cellar/apache-spark/3.2.0/libexec/python/pyspark/ml/wrapper.py\", line 335, in _fit\n",
      "    java_model = self._fit_java(dataset)\n",
      "  File \"/usr/local/Cellar/apache-spark/3.2.0/libexec/python/pyspark/ml/wrapper.py\", line 332, in _fit_java\n",
      "    return self._java_obj.fit(dataset._jdf)\n",
      "  File \"/usr/local/Cellar/apache-spark/3.2.0/libexec/python/lib/py4j-0.10.9.2-src.zip/py4j/java_gateway.py\", line 1309, in __call__\n",
      "    return_value = get_return_value(\n",
      "  File \"/usr/local/Cellar/apache-spark/3.2.0/libexec/python/pyspark/sql/utils.py\", line 111, in deco\n",
      "    return f(*a, **kw)\n",
      "  File \"/usr/local/Cellar/apache-spark/3.2.0/libexec/python/lib/py4j-0.10.9.2-src.zip/py4j/protocol.py\", line 326, in get_return_value\n",
      "    raise Py4JJavaError(\n",
      "py4j.protocol.Py4JJavaError: <unprintable Py4JJavaError object>\n",
      "\n",
      "During handling of the above exception, another exception occurred:\n",
      "\n",
      "Traceback (most recent call last):\n",
      "  File \"/Users/hamidafzal/opt/anaconda3/lib/python3.8/site-packages/IPython/core/interactiveshell.py\", line 2061, in showtraceback\n",
      "    stb = value._render_traceback_()\n",
      "AttributeError: 'Py4JJavaError' object has no attribute '_render_traceback_'\n",
      "\n",
      "During handling of the above exception, another exception occurred:\n",
      "\n",
      "Traceback (most recent call last):\n",
      "  File \"/usr/local/Cellar/apache-spark/3.2.0/libexec/python/lib/py4j-0.10.9.2-src.zip/py4j/clientserver.py\", line 480, in send_command\n",
      "    raise Py4JNetworkError(\"Answer from Java side is empty\")\n",
      "py4j.protocol.Py4JNetworkError: Answer from Java side is empty\n",
      "\n",
      "During handling of the above exception, another exception occurred:\n",
      "\n",
      "Traceback (most recent call last):\n",
      "  File \"/usr/local/Cellar/apache-spark/3.2.0/libexec/python/lib/py4j-0.10.9.2-src.zip/py4j/java_gateway.py\", line 1038, in send_command\n",
      "    response = connection.send_command(command)\n",
      "  File \"/usr/local/Cellar/apache-spark/3.2.0/libexec/python/lib/py4j-0.10.9.2-src.zip/py4j/clientserver.py\", line 503, in send_command\n",
      "    raise Py4JNetworkError(\n",
      "py4j.protocol.Py4JNetworkError: Error while sending or receiving\n"
     ]
    },
    {
     "ename": "ConnectionRefusedError",
     "evalue": "[Errno 61] Connection refused",
     "output_type": "error",
     "traceback": [
      "\u001b[0;31m---------------------------------------------------------------------------\u001b[0m",
      "\u001b[0;31mPy4JJavaError\u001b[0m                             Traceback (most recent call last)",
      "    \u001b[0;31m[... skipping hidden 1 frame]\u001b[0m\n",
      "\u001b[0;32m<ipython-input-31-ac58a0a5bf87>\u001b[0m in \u001b[0;36m<module>\u001b[0;34m\u001b[0m\n\u001b[0;32m----> 1\u001b[0;31m \u001b[0mlr_model\u001b[0m \u001b[0;34m=\u001b[0m \u001b[0mclassifier\u001b[0m\u001b[0;34m.\u001b[0m\u001b[0mfit\u001b[0m\u001b[0;34m(\u001b[0m\u001b[0mdf_train_encoded\u001b[0m\u001b[0;34m)\u001b[0m\u001b[0;34m\u001b[0m\u001b[0;34m\u001b[0m\u001b[0m\n\u001b[0m",
      "\u001b[0;32m/usr/local/Cellar/apache-spark/3.2.0/libexec/python/pyspark/ml/base.py\u001b[0m in \u001b[0;36mfit\u001b[0;34m(self, dataset, params)\u001b[0m\n\u001b[1;32m    160\u001b[0m             \u001b[0;32melse\u001b[0m\u001b[0;34m:\u001b[0m\u001b[0;34m\u001b[0m\u001b[0;34m\u001b[0m\u001b[0m\n\u001b[0;32m--> 161\u001b[0;31m                 \u001b[0;32mreturn\u001b[0m \u001b[0mself\u001b[0m\u001b[0;34m.\u001b[0m\u001b[0m_fit\u001b[0m\u001b[0;34m(\u001b[0m\u001b[0mdataset\u001b[0m\u001b[0;34m)\u001b[0m\u001b[0;34m\u001b[0m\u001b[0;34m\u001b[0m\u001b[0m\n\u001b[0m\u001b[1;32m    162\u001b[0m         \u001b[0;32melse\u001b[0m\u001b[0;34m:\u001b[0m\u001b[0;34m\u001b[0m\u001b[0;34m\u001b[0m\u001b[0m\n",
      "\u001b[0;32m/usr/local/Cellar/apache-spark/3.2.0/libexec/python/pyspark/ml/wrapper.py\u001b[0m in \u001b[0;36m_fit\u001b[0;34m(self, dataset)\u001b[0m\n\u001b[1;32m    334\u001b[0m     \u001b[0;32mdef\u001b[0m \u001b[0m_fit\u001b[0m\u001b[0;34m(\u001b[0m\u001b[0mself\u001b[0m\u001b[0;34m,\u001b[0m \u001b[0mdataset\u001b[0m\u001b[0;34m)\u001b[0m\u001b[0;34m:\u001b[0m\u001b[0;34m\u001b[0m\u001b[0;34m\u001b[0m\u001b[0m\n\u001b[0;32m--> 335\u001b[0;31m         \u001b[0mjava_model\u001b[0m \u001b[0;34m=\u001b[0m \u001b[0mself\u001b[0m\u001b[0;34m.\u001b[0m\u001b[0m_fit_java\u001b[0m\u001b[0;34m(\u001b[0m\u001b[0mdataset\u001b[0m\u001b[0;34m)\u001b[0m\u001b[0;34m\u001b[0m\u001b[0;34m\u001b[0m\u001b[0m\n\u001b[0m\u001b[1;32m    336\u001b[0m         \u001b[0mmodel\u001b[0m \u001b[0;34m=\u001b[0m \u001b[0mself\u001b[0m\u001b[0;34m.\u001b[0m\u001b[0m_create_model\u001b[0m\u001b[0;34m(\u001b[0m\u001b[0mjava_model\u001b[0m\u001b[0;34m)\u001b[0m\u001b[0;34m\u001b[0m\u001b[0;34m\u001b[0m\u001b[0m\n",
      "\u001b[0;32m/usr/local/Cellar/apache-spark/3.2.0/libexec/python/pyspark/ml/wrapper.py\u001b[0m in \u001b[0;36m_fit_java\u001b[0;34m(self, dataset)\u001b[0m\n\u001b[1;32m    331\u001b[0m         \u001b[0mself\u001b[0m\u001b[0;34m.\u001b[0m\u001b[0m_transfer_params_to_java\u001b[0m\u001b[0;34m(\u001b[0m\u001b[0;34m)\u001b[0m\u001b[0;34m\u001b[0m\u001b[0;34m\u001b[0m\u001b[0m\n\u001b[0;32m--> 332\u001b[0;31m         \u001b[0;32mreturn\u001b[0m \u001b[0mself\u001b[0m\u001b[0;34m.\u001b[0m\u001b[0m_java_obj\u001b[0m\u001b[0;34m.\u001b[0m\u001b[0mfit\u001b[0m\u001b[0;34m(\u001b[0m\u001b[0mdataset\u001b[0m\u001b[0;34m.\u001b[0m\u001b[0m_jdf\u001b[0m\u001b[0;34m)\u001b[0m\u001b[0;34m\u001b[0m\u001b[0;34m\u001b[0m\u001b[0m\n\u001b[0m\u001b[1;32m    333\u001b[0m \u001b[0;34m\u001b[0m\u001b[0m\n",
      "\u001b[0;32m/usr/local/Cellar/apache-spark/3.2.0/libexec/python/lib/py4j-0.10.9.2-src.zip/py4j/java_gateway.py\u001b[0m in \u001b[0;36m__call__\u001b[0;34m(self, *args)\u001b[0m\n\u001b[1;32m   1308\u001b[0m         \u001b[0manswer\u001b[0m \u001b[0;34m=\u001b[0m \u001b[0mself\u001b[0m\u001b[0;34m.\u001b[0m\u001b[0mgateway_client\u001b[0m\u001b[0;34m.\u001b[0m\u001b[0msend_command\u001b[0m\u001b[0;34m(\u001b[0m\u001b[0mcommand\u001b[0m\u001b[0;34m)\u001b[0m\u001b[0;34m\u001b[0m\u001b[0;34m\u001b[0m\u001b[0m\n\u001b[0;32m-> 1309\u001b[0;31m         return_value = get_return_value(\n\u001b[0m\u001b[1;32m   1310\u001b[0m             answer, self.gateway_client, self.target_id, self.name)\n",
      "\u001b[0;32m/usr/local/Cellar/apache-spark/3.2.0/libexec/python/pyspark/sql/utils.py\u001b[0m in \u001b[0;36mdeco\u001b[0;34m(*a, **kw)\u001b[0m\n\u001b[1;32m    110\u001b[0m         \u001b[0;32mtry\u001b[0m\u001b[0;34m:\u001b[0m\u001b[0;34m\u001b[0m\u001b[0;34m\u001b[0m\u001b[0m\n\u001b[0;32m--> 111\u001b[0;31m             \u001b[0;32mreturn\u001b[0m \u001b[0mf\u001b[0m\u001b[0;34m(\u001b[0m\u001b[0;34m*\u001b[0m\u001b[0ma\u001b[0m\u001b[0;34m,\u001b[0m \u001b[0;34m**\u001b[0m\u001b[0mkw\u001b[0m\u001b[0;34m)\u001b[0m\u001b[0;34m\u001b[0m\u001b[0;34m\u001b[0m\u001b[0m\n\u001b[0m\u001b[1;32m    112\u001b[0m         \u001b[0;32mexcept\u001b[0m \u001b[0mpy4j\u001b[0m\u001b[0;34m.\u001b[0m\u001b[0mprotocol\u001b[0m\u001b[0;34m.\u001b[0m\u001b[0mPy4JJavaError\u001b[0m \u001b[0;32mas\u001b[0m \u001b[0me\u001b[0m\u001b[0;34m:\u001b[0m\u001b[0;34m\u001b[0m\u001b[0;34m\u001b[0m\u001b[0m\n",
      "\u001b[0;32m/usr/local/Cellar/apache-spark/3.2.0/libexec/python/lib/py4j-0.10.9.2-src.zip/py4j/protocol.py\u001b[0m in \u001b[0;36mget_return_value\u001b[0;34m(answer, gateway_client, target_id, name)\u001b[0m\n\u001b[1;32m    325\u001b[0m             \u001b[0;32mif\u001b[0m \u001b[0manswer\u001b[0m\u001b[0;34m[\u001b[0m\u001b[0;36m1\u001b[0m\u001b[0;34m]\u001b[0m \u001b[0;34m==\u001b[0m \u001b[0mREFERENCE_TYPE\u001b[0m\u001b[0;34m:\u001b[0m\u001b[0;34m\u001b[0m\u001b[0;34m\u001b[0m\u001b[0m\n\u001b[0;32m--> 326\u001b[0;31m                 raise Py4JJavaError(\n\u001b[0m\u001b[1;32m    327\u001b[0m                     \u001b[0;34m\"An error occurred while calling {0}{1}{2}.\\n\"\u001b[0m\u001b[0;34m.\u001b[0m\u001b[0;34m\u001b[0m\u001b[0;34m\u001b[0m\u001b[0m\n",
      "\u001b[0;31m<class 'str'>\u001b[0m: (<class 'ConnectionRefusedError'>, ConnectionRefusedError(61, 'Connection refused'))",
      "\nDuring handling of the above exception, another exception occurred:\n",
      "\u001b[0;31mConnectionRefusedError\u001b[0m                    Traceback (most recent call last)",
      "    \u001b[0;31m[... skipping hidden 1 frame]\u001b[0m\n",
      "\u001b[0;32m~/opt/anaconda3/lib/python3.8/site-packages/IPython/core/interactiveshell.py\u001b[0m in \u001b[0;36mshowtraceback\u001b[0;34m(self, exc_tuple, filename, tb_offset, exception_only, running_compiled_code)\u001b[0m\n\u001b[1;32m   2064\u001b[0m                                             value, tb, tb_offset=tb_offset)\n\u001b[1;32m   2065\u001b[0m \u001b[0;34m\u001b[0m\u001b[0m\n\u001b[0;32m-> 2066\u001b[0;31m                     \u001b[0mself\u001b[0m\u001b[0;34m.\u001b[0m\u001b[0m_showtraceback\u001b[0m\u001b[0;34m(\u001b[0m\u001b[0metype\u001b[0m\u001b[0;34m,\u001b[0m \u001b[0mvalue\u001b[0m\u001b[0;34m,\u001b[0m \u001b[0mstb\u001b[0m\u001b[0;34m)\u001b[0m\u001b[0;34m\u001b[0m\u001b[0;34m\u001b[0m\u001b[0m\n\u001b[0m\u001b[1;32m   2067\u001b[0m                     \u001b[0;32mif\u001b[0m \u001b[0mself\u001b[0m\u001b[0;34m.\u001b[0m\u001b[0mcall_pdb\u001b[0m\u001b[0;34m:\u001b[0m\u001b[0;34m\u001b[0m\u001b[0;34m\u001b[0m\u001b[0m\n\u001b[1;32m   2068\u001b[0m                         \u001b[0;31m# drop into debugger\u001b[0m\u001b[0;34m\u001b[0m\u001b[0;34m\u001b[0m\u001b[0;34m\u001b[0m\u001b[0m\n",
      "\u001b[0;32m~/opt/anaconda3/lib/python3.8/site-packages/ipykernel/zmqshell.py\u001b[0m in \u001b[0;36m_showtraceback\u001b[0;34m(self, etype, evalue, stb)\u001b[0m\n\u001b[1;32m    544\u001b[0m             \u001b[0;34mu'traceback'\u001b[0m \u001b[0;34m:\u001b[0m \u001b[0mstb\u001b[0m\u001b[0;34m,\u001b[0m\u001b[0;34m\u001b[0m\u001b[0;34m\u001b[0m\u001b[0m\n\u001b[1;32m    545\u001b[0m             \u001b[0;34mu'ename'\u001b[0m \u001b[0;34m:\u001b[0m \u001b[0municode_type\u001b[0m\u001b[0;34m(\u001b[0m\u001b[0metype\u001b[0m\u001b[0;34m.\u001b[0m\u001b[0m__name__\u001b[0m\u001b[0;34m)\u001b[0m\u001b[0;34m,\u001b[0m\u001b[0;34m\u001b[0m\u001b[0;34m\u001b[0m\u001b[0m\n\u001b[0;32m--> 546\u001b[0;31m             \u001b[0;34mu'evalue'\u001b[0m \u001b[0;34m:\u001b[0m \u001b[0mpy3compat\u001b[0m\u001b[0;34m.\u001b[0m\u001b[0msafe_unicode\u001b[0m\u001b[0;34m(\u001b[0m\u001b[0mevalue\u001b[0m\u001b[0;34m)\u001b[0m\u001b[0;34m,\u001b[0m\u001b[0;34m\u001b[0m\u001b[0;34m\u001b[0m\u001b[0m\n\u001b[0m\u001b[1;32m    547\u001b[0m         }\n\u001b[1;32m    548\u001b[0m \u001b[0;34m\u001b[0m\u001b[0m\n",
      "\u001b[0;32m~/opt/anaconda3/lib/python3.8/site-packages/ipython_genutils/py3compat.py\u001b[0m in \u001b[0;36msafe_unicode\u001b[0;34m(e)\u001b[0m\n\u001b[1;32m     63\u001b[0m     \"\"\"\n\u001b[1;32m     64\u001b[0m     \u001b[0;32mtry\u001b[0m\u001b[0;34m:\u001b[0m\u001b[0;34m\u001b[0m\u001b[0;34m\u001b[0m\u001b[0m\n\u001b[0;32m---> 65\u001b[0;31m         \u001b[0;32mreturn\u001b[0m \u001b[0municode_type\u001b[0m\u001b[0;34m(\u001b[0m\u001b[0me\u001b[0m\u001b[0;34m)\u001b[0m\u001b[0;34m\u001b[0m\u001b[0;34m\u001b[0m\u001b[0m\n\u001b[0m\u001b[1;32m     66\u001b[0m     \u001b[0;32mexcept\u001b[0m \u001b[0mUnicodeError\u001b[0m\u001b[0;34m:\u001b[0m\u001b[0;34m\u001b[0m\u001b[0;34m\u001b[0m\u001b[0m\n\u001b[1;32m     67\u001b[0m         \u001b[0;32mpass\u001b[0m\u001b[0;34m\u001b[0m\u001b[0;34m\u001b[0m\u001b[0m\n",
      "\u001b[0;32m/usr/local/Cellar/apache-spark/3.2.0/libexec/python/lib/py4j-0.10.9.2-src.zip/py4j/protocol.py\u001b[0m in \u001b[0;36m__str__\u001b[0;34m(self)\u001b[0m\n\u001b[1;32m    469\u001b[0m     \u001b[0;32mdef\u001b[0m \u001b[0m__str__\u001b[0m\u001b[0;34m(\u001b[0m\u001b[0mself\u001b[0m\u001b[0;34m)\u001b[0m\u001b[0;34m:\u001b[0m\u001b[0;34m\u001b[0m\u001b[0;34m\u001b[0m\u001b[0m\n\u001b[1;32m    470\u001b[0m         \u001b[0mgateway_client\u001b[0m \u001b[0;34m=\u001b[0m \u001b[0mself\u001b[0m\u001b[0;34m.\u001b[0m\u001b[0mjava_exception\u001b[0m\u001b[0;34m.\u001b[0m\u001b[0m_gateway_client\u001b[0m\u001b[0;34m\u001b[0m\u001b[0;34m\u001b[0m\u001b[0m\n\u001b[0;32m--> 471\u001b[0;31m         \u001b[0manswer\u001b[0m \u001b[0;34m=\u001b[0m \u001b[0mgateway_client\u001b[0m\u001b[0;34m.\u001b[0m\u001b[0msend_command\u001b[0m\u001b[0;34m(\u001b[0m\u001b[0mself\u001b[0m\u001b[0;34m.\u001b[0m\u001b[0mexception_cmd\u001b[0m\u001b[0;34m)\u001b[0m\u001b[0;34m\u001b[0m\u001b[0;34m\u001b[0m\u001b[0m\n\u001b[0m\u001b[1;32m    472\u001b[0m         \u001b[0mreturn_value\u001b[0m \u001b[0;34m=\u001b[0m \u001b[0mget_return_value\u001b[0m\u001b[0;34m(\u001b[0m\u001b[0manswer\u001b[0m\u001b[0;34m,\u001b[0m \u001b[0mgateway_client\u001b[0m\u001b[0;34m,\u001b[0m \u001b[0;32mNone\u001b[0m\u001b[0;34m,\u001b[0m \u001b[0;32mNone\u001b[0m\u001b[0;34m)\u001b[0m\u001b[0;34m\u001b[0m\u001b[0;34m\u001b[0m\u001b[0m\n\u001b[1;32m    473\u001b[0m         \u001b[0;31m# Note: technically this should return a bytestring 'str' rather than\u001b[0m\u001b[0;34m\u001b[0m\u001b[0;34m\u001b[0m\u001b[0;34m\u001b[0m\u001b[0m\n",
      "\u001b[0;32m/usr/local/Cellar/apache-spark/3.2.0/libexec/python/lib/py4j-0.10.9.2-src.zip/py4j/java_gateway.py\u001b[0m in \u001b[0;36msend_command\u001b[0;34m(self, command, retry, binary)\u001b[0m\n\u001b[1;32m   1034\u001b[0m          \u001b[0;32mif\u001b[0m\u001b[0;31m \u001b[0m\u001b[0;31m`\u001b[0m\u001b[0mbinary\u001b[0m\u001b[0;31m`\u001b[0m \u001b[0;32mis\u001b[0m\u001b[0;31m \u001b[0m\u001b[0;31m`\u001b[0m\u001b[0;32mTrue\u001b[0m\u001b[0;31m`\u001b[0m\u001b[0;34m.\u001b[0m\u001b[0;34m\u001b[0m\u001b[0;34m\u001b[0m\u001b[0m\n\u001b[1;32m   1035\u001b[0m         \"\"\"\n\u001b[0;32m-> 1036\u001b[0;31m         \u001b[0mconnection\u001b[0m \u001b[0;34m=\u001b[0m \u001b[0mself\u001b[0m\u001b[0;34m.\u001b[0m\u001b[0m_get_connection\u001b[0m\u001b[0;34m(\u001b[0m\u001b[0;34m)\u001b[0m\u001b[0;34m\u001b[0m\u001b[0;34m\u001b[0m\u001b[0m\n\u001b[0m\u001b[1;32m   1037\u001b[0m         \u001b[0;32mtry\u001b[0m\u001b[0;34m:\u001b[0m\u001b[0;34m\u001b[0m\u001b[0;34m\u001b[0m\u001b[0m\n\u001b[1;32m   1038\u001b[0m             \u001b[0mresponse\u001b[0m \u001b[0;34m=\u001b[0m \u001b[0mconnection\u001b[0m\u001b[0;34m.\u001b[0m\u001b[0msend_command\u001b[0m\u001b[0;34m(\u001b[0m\u001b[0mcommand\u001b[0m\u001b[0;34m)\u001b[0m\u001b[0;34m\u001b[0m\u001b[0;34m\u001b[0m\u001b[0m\n",
      "\u001b[0;32m/usr/local/Cellar/apache-spark/3.2.0/libexec/python/lib/py4j-0.10.9.2-src.zip/py4j/clientserver.py\u001b[0m in \u001b[0;36m_get_connection\u001b[0;34m(self)\u001b[0m\n\u001b[1;32m    279\u001b[0m \u001b[0;34m\u001b[0m\u001b[0m\n\u001b[1;32m    280\u001b[0m         \u001b[0;32mif\u001b[0m \u001b[0mconnection\u001b[0m \u001b[0;32mis\u001b[0m \u001b[0;32mNone\u001b[0m \u001b[0;32mor\u001b[0m \u001b[0mconnection\u001b[0m\u001b[0;34m.\u001b[0m\u001b[0msocket\u001b[0m \u001b[0;32mis\u001b[0m \u001b[0;32mNone\u001b[0m\u001b[0;34m:\u001b[0m\u001b[0;34m\u001b[0m\u001b[0;34m\u001b[0m\u001b[0m\n\u001b[0;32m--> 281\u001b[0;31m             \u001b[0mconnection\u001b[0m \u001b[0;34m=\u001b[0m \u001b[0mself\u001b[0m\u001b[0;34m.\u001b[0m\u001b[0m_create_new_connection\u001b[0m\u001b[0;34m(\u001b[0m\u001b[0;34m)\u001b[0m\u001b[0;34m\u001b[0m\u001b[0;34m\u001b[0m\u001b[0m\n\u001b[0m\u001b[1;32m    282\u001b[0m         \u001b[0;32mreturn\u001b[0m \u001b[0mconnection\u001b[0m\u001b[0;34m\u001b[0m\u001b[0;34m\u001b[0m\u001b[0m\n\u001b[1;32m    283\u001b[0m \u001b[0;34m\u001b[0m\u001b[0m\n",
      "\u001b[0;32m/usr/local/Cellar/apache-spark/3.2.0/libexec/python/lib/py4j-0.10.9.2-src.zip/py4j/clientserver.py\u001b[0m in \u001b[0;36m_create_new_connection\u001b[0;34m(self)\u001b[0m\n\u001b[1;32m    286\u001b[0m             \u001b[0mself\u001b[0m\u001b[0;34m.\u001b[0m\u001b[0mjava_parameters\u001b[0m\u001b[0;34m,\u001b[0m \u001b[0mself\u001b[0m\u001b[0;34m.\u001b[0m\u001b[0mpython_parameters\u001b[0m\u001b[0;34m,\u001b[0m\u001b[0;34m\u001b[0m\u001b[0;34m\u001b[0m\u001b[0m\n\u001b[1;32m    287\u001b[0m             self.gateway_property, self)\n\u001b[0;32m--> 288\u001b[0;31m         \u001b[0mconnection\u001b[0m\u001b[0;34m.\u001b[0m\u001b[0mconnect_to_java_server\u001b[0m\u001b[0;34m(\u001b[0m\u001b[0;34m)\u001b[0m\u001b[0;34m\u001b[0m\u001b[0;34m\u001b[0m\u001b[0m\n\u001b[0m\u001b[1;32m    289\u001b[0m         \u001b[0mself\u001b[0m\u001b[0;34m.\u001b[0m\u001b[0mset_thread_connection\u001b[0m\u001b[0;34m(\u001b[0m\u001b[0mconnection\u001b[0m\u001b[0;34m)\u001b[0m\u001b[0;34m\u001b[0m\u001b[0;34m\u001b[0m\u001b[0m\n\u001b[1;32m    290\u001b[0m         \u001b[0;32mreturn\u001b[0m \u001b[0mconnection\u001b[0m\u001b[0;34m\u001b[0m\u001b[0;34m\u001b[0m\u001b[0m\n",
      "\u001b[0;32m/usr/local/Cellar/apache-spark/3.2.0/libexec/python/lib/py4j-0.10.9.2-src.zip/py4j/clientserver.py\u001b[0m in \u001b[0;36mconnect_to_java_server\u001b[0;34m(self)\u001b[0m\n\u001b[1;32m    400\u001b[0m                 self.socket = self.ssl_context.wrap_socket(\n\u001b[1;32m    401\u001b[0m                     self.socket, server_hostname=self.java_address)\n\u001b[0;32m--> 402\u001b[0;31m             \u001b[0mself\u001b[0m\u001b[0;34m.\u001b[0m\u001b[0msocket\u001b[0m\u001b[0;34m.\u001b[0m\u001b[0mconnect\u001b[0m\u001b[0;34m(\u001b[0m\u001b[0;34m(\u001b[0m\u001b[0mself\u001b[0m\u001b[0;34m.\u001b[0m\u001b[0mjava_address\u001b[0m\u001b[0;34m,\u001b[0m \u001b[0mself\u001b[0m\u001b[0;34m.\u001b[0m\u001b[0mjava_port\u001b[0m\u001b[0;34m)\u001b[0m\u001b[0;34m)\u001b[0m\u001b[0;34m\u001b[0m\u001b[0;34m\u001b[0m\u001b[0m\n\u001b[0m\u001b[1;32m    403\u001b[0m             \u001b[0mself\u001b[0m\u001b[0;34m.\u001b[0m\u001b[0mstream\u001b[0m \u001b[0;34m=\u001b[0m \u001b[0mself\u001b[0m\u001b[0;34m.\u001b[0m\u001b[0msocket\u001b[0m\u001b[0;34m.\u001b[0m\u001b[0mmakefile\u001b[0m\u001b[0;34m(\u001b[0m\u001b[0;34m\"rb\"\u001b[0m\u001b[0;34m)\u001b[0m\u001b[0;34m\u001b[0m\u001b[0;34m\u001b[0m\u001b[0m\n\u001b[1;32m    404\u001b[0m             \u001b[0mself\u001b[0m\u001b[0;34m.\u001b[0m\u001b[0mis_connected\u001b[0m \u001b[0;34m=\u001b[0m \u001b[0;32mTrue\u001b[0m\u001b[0;34m\u001b[0m\u001b[0;34m\u001b[0m\u001b[0m\n",
      "\u001b[0;31mConnectionRefusedError\u001b[0m: [Errno 61] Connection refused"
     ]
    }
   ],
   "source": [
    " lr_model = classifier.fit(df_train_encoded)"
   ]
  },
  {
   "cell_type": "code",
   "execution_count": null,
   "id": "f2356e08",
   "metadata": {},
   "outputs": [],
   "source": [
    "predictions = lr_model.transform(df_test_encoded)"
   ]
  },
  {
   "cell_type": "code",
   "execution_count": null,
   "id": "c94d6df9",
   "metadata": {},
   "outputs": [],
   "source": [
    "predictions.cache()\n",
    " predictions.show()"
   ]
  }
 ],
 "metadata": {
  "kernelspec": {
   "display_name": "Python 3",
   "language": "python",
   "name": "python3"
  },
  "language_info": {
   "codemirror_mode": {
    "name": "ipython",
    "version": 3
   },
   "file_extension": ".py",
   "mimetype": "text/x-python",
   "name": "python",
   "nbconvert_exporter": "python",
   "pygments_lexer": "ipython3",
   "version": "3.8.8"
  }
 },
 "nbformat": 4,
 "nbformat_minor": 5
}
